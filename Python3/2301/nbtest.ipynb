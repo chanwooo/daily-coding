{
 "cells": [
  {
   "cell_type": "code",
   "execution_count": 3,
   "outputs": [
    {
     "name": "stdout",
     "output_type": "stream",
     "text": [
      "hi\n"
     ]
    }
   ],
   "source": [
    "print(\"hi\")"
   ],
   "metadata": {
    "collapsed": false,
    "pycharm": {
     "name": "#%%\n"
    }
   }
  },
  {
   "cell_type": "code",
   "execution_count": 4,
   "outputs": [
    {
     "name": "stdout",
     "output_type": "stream",
     "text": [
      "hi\n"
     ]
    }
   ],
   "source": [
    "print(\"hi\")"
   ],
   "metadata": {
    "collapsed": false,
    "pycharm": {
     "name": "#%%\n"
    }
   }
  },
  {
   "cell_type": "code",
   "execution_count": 21,
   "outputs": [],
   "source": [
    "import random\n",
    "from collections import Counter"
   ],
   "metadata": {
    "collapsed": false,
    "pycharm": {
     "name": "#%%\n"
    }
   }
  },
  {
   "cell_type": "code",
   "execution_count": 30,
   "outputs": [],
   "source": [
    "result = []\n",
    "for i in range(10):\n",
    "    result.append(random.randrange(10))\n"
   ],
   "metadata": {
    "collapsed": false,
    "pycharm": {
     "name": "#%%\n"
    }
   }
  },
  {
   "cell_type": "code",
   "execution_count": 46,
   "outputs": [
    {
     "name": "stdout",
     "output_type": "stream",
     "text": [
      "[3, 0, 6, 1, 8, 3, 3, 0, 7, 2]\n"
     ]
    },
    {
     "data": {
      "text/plain": "Counter({3: 3, 0: 2, 6: 1, 1: 1, 8: 1, 7: 1, 2: 1})"
     },
     "execution_count": 46,
     "metadata": {},
     "output_type": "execute_result"
    }
   ],
   "source": [
    "print(result)\n",
    "Counter(result)"
   ],
   "metadata": {
    "collapsed": false,
    "pycharm": {
     "name": "#%%\n"
    }
   }
  },
  {
   "cell_type": "code",
   "execution_count": 49,
   "outputs": [],
   "source": [
    "a = [(1,2),(2,3)]"
   ],
   "metadata": {
    "collapsed": false,
    "pycharm": {
     "name": "#%%\n"
    }
   }
  },
  {
   "cell_type": "code",
   "execution_count": 50,
   "outputs": [
    {
     "data": {
      "text/plain": "Counter({(1, 2): 1, (2, 3): 1})"
     },
     "execution_count": 50,
     "metadata": {},
     "output_type": "execute_result"
    }
   ],
   "source": [
    "Counter(a)"
   ],
   "metadata": {
    "collapsed": false,
    "pycharm": {
     "name": "#%%\n"
    }
   }
  },
  {
   "cell_type": "code",
   "execution_count": 51,
   "outputs": [
    {
     "name": "stdout",
     "output_type": "stream",
     "text": [
      "hi\n"
     ]
    }
   ],
   "source": [
    "print(\"hi\")"
   ],
   "metadata": {
    "collapsed": false,
    "pycharm": {
     "name": "#%%\n"
    }
   }
  },
  {
   "cell_type": "code",
   "execution_count": 2,
   "outputs": [],
   "source": [
    "test_2d_list = [[\"1\"]*10]*5"
   ],
   "metadata": {
    "collapsed": false,
    "pycharm": {
     "name": "#%%\n"
    }
   }
  },
  {
   "cell_type": "code",
   "execution_count": 6,
   "outputs": [
    {
     "data": {
      "text/plain": "[['1', '1', '3', '1', '1', '1', '1', '1', '1', '1'],\n ['1', '1', '3', '1', '1', '1', '1', '1', '1', '1'],\n ['1', '1', '3', '1', '1', '1', '1', '1', '1', '1'],\n ['1', '1', '3', '1', '1', '1', '1', '1', '1', '1'],\n ['1', '1', '3', '1', '1', '1', '1', '1', '1', '1']]"
     },
     "execution_count": 6,
     "metadata": {},
     "output_type": "execute_result"
    }
   ],
   "source": [
    "test_2d_list"
   ],
   "metadata": {
    "collapsed": false,
    "pycharm": {
     "name": "#%%\n"
    }
   }
  },
  {
   "cell_type": "code",
   "execution_count": 4,
   "outputs": [],
   "source": [
    "test_2d_list[0][2]=\"3\""
   ],
   "metadata": {
    "collapsed": false,
    "pycharm": {
     "name": "#%%\n"
    }
   }
  },
  {
   "cell_type": "code",
   "execution_count": 5,
   "outputs": [
    {
     "data": {
      "text/plain": "[['1', '1', '3', '1', '1', '1', '1', '1', '1', '1'],\n ['1', '1', '3', '1', '1', '1', '1', '1', '1', '1'],\n ['1', '1', '3', '1', '1', '1', '1', '1', '1', '1'],\n ['1', '1', '3', '1', '1', '1', '1', '1', '1', '1'],\n ['1', '1', '3', '1', '1', '1', '1', '1', '1', '1']]"
     },
     "execution_count": 5,
     "metadata": {},
     "output_type": "execute_result"
    }
   ],
   "source": [
    "test_2d_list"
   ],
   "metadata": {
    "collapsed": false,
    "pycharm": {
     "name": "#%%\n"
    }
   }
  },
  {
   "cell_type": "code",
   "execution_count": 9,
   "outputs": [
    {
     "ename": "NameError",
     "evalue": "name 'kiwi' is not defined",
     "output_type": "error",
     "traceback": [
      "\u001B[0;31m---------------------------------------------------------------------------\u001B[0m",
      "\u001B[0;31mNameError\u001B[0m                                 Traceback (most recent call last)",
      "Cell \u001B[0;32mIn[9], line 3\u001B[0m\n\u001B[1;32m      1\u001B[0m text \u001B[38;5;241m=\u001B[39m \u001B[38;5;124m\"\u001B[39m\u001B[38;5;124m\"\u001B[39m\n\u001B[0;32m----> 3\u001B[0m \u001B[43mkiwi\u001B[49m \n",
      "\u001B[0;31mNameError\u001B[0m: name 'kiwi' is not defined"
     ]
    }
   ],
   "source": [
    "text = \"\""
   ],
   "metadata": {
    "collapsed": false,
    "pycharm": {
     "name": "#%%\n"
    }
   }
  },
  {
   "cell_type": "code",
   "execution_count": 13,
   "outputs": [],
   "source": [
    "\n",
    "text = \"\"\"\n",
    "1-kiwi,\n",
    "2-pear,\n",
    "3-kiwi,\n",
    "4-banana,\n",
    "5-melon,\n",
    "6-banana,\n",
    "7-melon,\n",
    "8-pineapple,\n",
    "9-apple,\n",
    "10-pineapple,\n",
    "11-cucumber,\n",
    "12-pineapple,\n",
    "13-cucumber,\n",
    "14-orange,\n",
    "15-grape,\n",
    "16-orange,\n",
    "17-grape,\n",
    "18-apple,\n",
    "19-grape,\n",
    "20-cherry,\n",
    "21-pear,\n",
    "22-cherry,\n",
    "23-pear,\n",
    "24-kiwi,\n",
    "25-banana,\n",
    "26-kiwi,\n",
    "27-apple,\n",
    "28-melon,\n",
    "29-banana,\n",
    "30-melon,\n",
    "31-pineapple,\n",
    "32-melon,\n",
    "33-pineapple,\n",
    "34-cucumber,\n",
    "35-orange,\n",
    "36-apple,\n",
    "37-orange,\n",
    "38-grape,\n",
    "39-orange,\n",
    "40-grape,\n",
    "41-cherry,\n",
    "42-pear,\n",
    "43-cherry,\n",
    "44-pear,\n",
    "45-apple,\n",
    "46-pear,\n",
    "47-kiwi,\n",
    "48-banana,\n",
    "49-kiwi,\n",
    "50-banana,\n",
    "51-melon,\n",
    "52-pineapple,\n",
    "53-melon,\n",
    "54-apple,\n",
    "55-cucumber,\n",
    "56-pineapple,\n",
    "57-cucumber,\n",
    "58-orange,\n",
    "59-cucumber,\n",
    "60-orange,\n",
    "61-grape,\n",
    "62-cherry,\n",
    "63-apple,\n",
    "64-cherry,\n",
    "65-pear,\n",
    "66-cherry,\n",
    "67-pear,\n",
    "68-kiwi,\n",
    "69-pear,\n",
    "70-kiwi,\n",
    "71-banana,\n",
    "72-apple,\n",
    "73-banana,\n",
    "74-melon,\n",
    "75-pineapple,\n",
    "76-melon,\n",
    "77-pineapple,\n",
    "78-cucumber,\n",
    "79-pineapple,\n",
    "80-cucumber,\n",
    "81-apple,\n",
    "82-grape,\n",
    "83-orange,\n",
    "84-grape,\n",
    "85-cherry,\n",
    "86-grape,\n",
    "87-cherry,\n",
    "88-pear,\n",
    "89-cherry,\n",
    "90-apple,\n",
    "91-kiwi,\n",
    "92-banana,\n",
    "93-kiwi,\n",
    "94-banana,\n",
    "95-melon,\n",
    "96-banana,\n",
    "97-melon,\n",
    "98-pineapple,\n",
    "99-apple,\n",
    "100-pineapple\n",
    "\"\"\"\n"
   ],
   "metadata": {
    "collapsed": false,
    "pycharm": {
     "name": "#%%\n"
    }
   }
  },
  {
   "cell_type": "code",
   "execution_count": 14,
   "outputs": [
    {
     "data": {
      "text/plain": "'\\n1-kiwi,\\n2-pear,\\n3-kiwi,\\n4-banana,\\n5-melon,\\n6-banana,\\n7-melon,\\n8-pineapple,\\n9-apple,\\n10-pineapple,\\n11-cucumber,\\n12-pineapple,\\n13-cucumber,\\n14-orange,\\n15-grape,\\n16-orange,\\n17-grape,\\n18-apple,\\n19-grape,\\n20-cherry,\\n21-pear,\\n22-cherry,\\n23-pear,\\n24-kiwi,\\n25-banana,\\n26-kiwi,\\n27-apple,\\n28-melon,\\n29-banana,\\n30-melon,\\n31-pineapple,\\n32-melon,\\n33-pineapple,\\n34-cucumber,\\n35-orange,\\n36-apple,\\n37-orange,\\n38-grape,\\n39-orange,\\n40-grape,\\n41-cherry,\\n42-pear,\\n43-cherry,\\n44-pear,\\n45-apple,\\n46-pear,\\n47-kiwi,\\n48-banana,\\n49-kiwi,\\n50-banana,\\n51-melon,\\n52-pineapple,\\n53-melon,\\n54-apple,\\n55-cucumber,\\n56-pineapple,\\n57-cucumber,\\n58-orange,\\n59-cucumber,\\n60-orange,\\n61-grape,\\n62-cherry,\\n63-apple,\\n64-cherry,\\n65-pear,\\n66-cherry,\\n67-pear,\\n68-kiwi,\\n69-pear,\\n70-kiwi,\\n71-banana,\\n72-apple,\\n73-banana,\\n74-melon,\\n75-pineapple,\\n76-melon,\\n77-pineapple,\\n78-cucumber,\\n79-pineapple,\\n80-cucumber,\\n81-apple,\\n82-grape,\\n83-orange,\\n84-grape,\\n85-cherry,\\n86-grape,\\n87-cherry,\\n88-pear,\\n89-cherry,\\n90-apple,\\n91-kiwi,\\n92-banana,\\n93-kiwi,\\n94-banana,\\n95-melon,\\n96-banana,\\n97-melon,\\n98-pineapple,\\n99-apple,\\n100-pineapple,\\n'"
     },
     "execution_count": 14,
     "metadata": {},
     "output_type": "execute_result"
    }
   ],
   "source": [
    "text"
   ],
   "metadata": {
    "collapsed": false,
    "pycharm": {
     "name": "#%%\n"
    }
   }
  },
  {
   "cell_type": "code",
   "execution_count": 15,
   "outputs": [
    {
     "data": {
      "text/plain": "['\\n1-kiwi',\n '\\n2-pear',\n '\\n3-kiwi',\n '\\n4-banana',\n '\\n5-melon',\n '\\n6-banana',\n '\\n7-melon',\n '\\n8-pineapple',\n '\\n9-apple',\n '\\n10-pineapple',\n '\\n11-cucumber',\n '\\n12-pineapple',\n '\\n13-cucumber',\n '\\n14-orange',\n '\\n15-grape',\n '\\n16-orange',\n '\\n17-grape',\n '\\n18-apple',\n '\\n19-grape',\n '\\n20-cherry',\n '\\n21-pear',\n '\\n22-cherry',\n '\\n23-pear',\n '\\n24-kiwi',\n '\\n25-banana',\n '\\n26-kiwi',\n '\\n27-apple',\n '\\n28-melon',\n '\\n29-banana',\n '\\n30-melon',\n '\\n31-pineapple',\n '\\n32-melon',\n '\\n33-pineapple',\n '\\n34-cucumber',\n '\\n35-orange',\n '\\n36-apple',\n '\\n37-orange',\n '\\n38-grape',\n '\\n39-orange',\n '\\n40-grape',\n '\\n41-cherry',\n '\\n42-pear',\n '\\n43-cherry',\n '\\n44-pear',\n '\\n45-apple',\n '\\n46-pear',\n '\\n47-kiwi',\n '\\n48-banana',\n '\\n49-kiwi',\n '\\n50-banana',\n '\\n51-melon',\n '\\n52-pineapple',\n '\\n53-melon',\n '\\n54-apple',\n '\\n55-cucumber',\n '\\n56-pineapple',\n '\\n57-cucumber',\n '\\n58-orange',\n '\\n59-cucumber',\n '\\n60-orange',\n '\\n61-grape',\n '\\n62-cherry',\n '\\n63-apple',\n '\\n64-cherry',\n '\\n65-pear',\n '\\n66-cherry',\n '\\n67-pear',\n '\\n68-kiwi',\n '\\n69-pear',\n '\\n70-kiwi',\n '\\n71-banana',\n '\\n72-apple',\n '\\n73-banana',\n '\\n74-melon',\n '\\n75-pineapple',\n '\\n76-melon',\n '\\n77-pineapple',\n '\\n78-cucumber',\n '\\n79-pineapple',\n '\\n80-cucumber',\n '\\n81-apple',\n '\\n82-grape',\n '\\n83-orange',\n '\\n84-grape',\n '\\n85-cherry',\n '\\n86-grape',\n '\\n87-cherry',\n '\\n88-pear',\n '\\n89-cherry',\n '\\n90-apple',\n '\\n91-kiwi',\n '\\n92-banana',\n '\\n93-kiwi',\n '\\n94-banana',\n '\\n95-melon',\n '\\n96-banana',\n '\\n97-melon',\n '\\n98-pineapple',\n '\\n99-apple',\n '\\n100-pineapple',\n '\\n']"
     },
     "execution_count": 15,
     "metadata": {},
     "output_type": "execute_result"
    }
   ],
   "source": [
    "text.split(\",\")"
   ],
   "metadata": {
    "collapsed": false,
    "pycharm": {
     "name": "#%%\n"
    }
   }
  },
  {
   "cell_type": "code",
   "execution_count": 16,
   "outputs": [],
   "source": [
    "text = \"\"\"1-kiwi\n",
    "2-pear\n",
    "3-kiwi\n",
    "4-banana\n",
    "5-melon\n",
    "6-banana\n",
    "7-melon\n",
    "8-pineapple\n",
    "9-apple\n",
    "10-pineapple\n",
    "11-cucumber\n",
    "12-pineapple\n",
    "13-cucumber\n",
    "14-orange\n",
    "15-grape\n",
    "16-orange\n",
    "17-grape\n",
    "18-apple\n",
    "19-grape\n",
    "20-cherry\n",
    "21-pear\n",
    "22-cherry\n",
    "23-pear\n",
    "24-kiwi\n",
    "25-banana\n",
    "26-kiwi\n",
    "27-apple\n",
    "28-melon\n",
    "29-banana\n",
    "30-melon\n",
    "31-pineapple\n",
    "32-melon\n",
    "33-pineapple\n",
    "34-cucumber\n",
    "35-orange\n",
    "36-apple\n",
    "37-orange\n",
    "38-grape\n",
    "39-orange\n",
    "40-grape\n",
    "41-cherry\n",
    "42-pear\n",
    "43-cherry\n",
    "44-pear\n",
    "45-apple\n",
    "46-pear\n",
    "47-kiwi\n",
    "48-banana\n",
    "49-kiwi\n",
    "50-banana\n",
    "51-melon\n",
    "52-pineapple\n",
    "53-melon\n",
    "54-apple\n",
    "55-cucumber\n",
    "56-pineapple\n",
    "57-cucumber\n",
    "58-orange\n",
    "59-cucumber\n",
    "60-orange\n",
    "61-grape\n",
    "62-cherry\n",
    "63-apple\n",
    "64-cherry\n",
    "65-pear\n",
    "66-cherry\n",
    "67-pear\n",
    "68-kiwi\n",
    "69-pear\n",
    "70-kiwi\n",
    "71-banana\n",
    "72-apple\n",
    "73-banana\n",
    "74-melon\n",
    "75-pineapple\n",
    "76-melon\n",
    "77-pineapple\n",
    "78-cucumber\n",
    "79-pineapple\n",
    "80-cucumber\n",
    "81-apple\n",
    "82-grape\n",
    "83-orange\n",
    "84-grape\n",
    "85-cherry\n",
    "86-grape\n",
    "87-cherry\n",
    "88-pear\n",
    "89-cherry\n",
    "90-apple\n",
    "91-kiwi\n",
    "92-banana\n",
    "93-kiwi\n",
    "94-banana\n",
    "95-melon\n",
    "96-banana\n",
    "97-melon\n",
    "98-pineapple\n",
    "99-apple\n",
    "100-pineapple\n",
    "\"\"\""
   ],
   "metadata": {
    "collapsed": false,
    "pycharm": {
     "name": "#%%\n"
    }
   }
  },
  {
   "cell_type": "code",
   "execution_count": 17,
   "outputs": [
    {
     "data": {
      "text/plain": "'1-kiwi\\n2-pear\\n3-kiwi\\n4-banana\\n5-melon\\n6-banana\\n7-melon\\n8-pineapple\\n9-apple\\n10-pineapple\\n11-cucumber\\n12-pineapple\\n13-cucumber\\n14-orange\\n15-grape\\n16-orange\\n17-grape\\n18-apple\\n19-grape\\n20-cherry\\n21-pear\\n22-cherry\\n23-pear\\n24-kiwi\\n25-banana\\n26-kiwi\\n27-apple\\n28-melon\\n29-banana\\n30-melon\\n31-pineapple\\n32-melon\\n33-pineapple\\n34-cucumber\\n35-orange\\n36-apple\\n37-orange\\n38-grape\\n39-orange\\n40-grape\\n41-cherry\\n42-pear\\n43-cherry\\n44-pear\\n45-apple\\n46-pear\\n47-kiwi\\n48-banana\\n49-kiwi\\n50-banana\\n51-melon\\n52-pineapple\\n53-melon\\n54-apple\\n55-cucumber\\n56-pineapple\\n57-cucumber\\n58-orange\\n59-cucumber\\n60-orange\\n61-grape\\n62-cherry\\n63-apple\\n64-cherry\\n65-pear\\n66-cherry\\n67-pear\\n68-kiwi\\n69-pear\\n70-kiwi\\n71-banana\\n72-apple\\n73-banana\\n74-melon\\n75-pineapple\\n76-melon\\n77-pineapple\\n78-cucumber\\n79-pineapple\\n80-cucumber\\n81-apple\\n82-grape\\n83-orange\\n84-grape\\n85-cherry\\n86-grape\\n87-cherry\\n88-pear\\n89-cherry\\n90-apple\\n91-kiwi\\n92-banana\\n93-kiwi\\n94-banana\\n95-melon\\n96-banana\\n97-melon\\n98-pineapple\\n99-apple\\n100-pineapple\\n'"
     },
     "execution_count": 17,
     "metadata": {},
     "output_type": "execute_result"
    }
   ],
   "source": [
    "text"
   ],
   "metadata": {
    "collapsed": false,
    "pycharm": {
     "name": "#%%\n"
    }
   }
  },
  {
   "cell_type": "code",
   "execution_count": 18,
   "outputs": [],
   "source": [
    "text = text.split(\"\\n\")"
   ],
   "metadata": {
    "collapsed": false,
    "pycharm": {
     "name": "#%%\n"
    }
   }
  },
  {
   "cell_type": "code",
   "execution_count": 19,
   "outputs": [
    {
     "data": {
      "text/plain": "['1-kiwi',\n '2-pear',\n '3-kiwi',\n '4-banana',\n '5-melon',\n '6-banana',\n '7-melon',\n '8-pineapple',\n '9-apple',\n '10-pineapple',\n '11-cucumber',\n '12-pineapple',\n '13-cucumber',\n '14-orange',\n '15-grape',\n '16-orange',\n '17-grape',\n '18-apple',\n '19-grape',\n '20-cherry',\n '21-pear',\n '22-cherry',\n '23-pear',\n '24-kiwi',\n '25-banana',\n '26-kiwi',\n '27-apple',\n '28-melon',\n '29-banana',\n '30-melon',\n '31-pineapple',\n '32-melon',\n '33-pineapple',\n '34-cucumber',\n '35-orange',\n '36-apple',\n '37-orange',\n '38-grape',\n '39-orange',\n '40-grape',\n '41-cherry',\n '42-pear',\n '43-cherry',\n '44-pear',\n '45-apple',\n '46-pear',\n '47-kiwi',\n '48-banana',\n '49-kiwi',\n '50-banana',\n '51-melon',\n '52-pineapple',\n '53-melon',\n '54-apple',\n '55-cucumber',\n '56-pineapple',\n '57-cucumber',\n '58-orange',\n '59-cucumber',\n '60-orange',\n '61-grape',\n '62-cherry',\n '63-apple',\n '64-cherry',\n '65-pear',\n '66-cherry',\n '67-pear',\n '68-kiwi',\n '69-pear',\n '70-kiwi',\n '71-banana',\n '72-apple',\n '73-banana',\n '74-melon',\n '75-pineapple',\n '76-melon',\n '77-pineapple',\n '78-cucumber',\n '79-pineapple',\n '80-cucumber',\n '81-apple',\n '82-grape',\n '83-orange',\n '84-grape',\n '85-cherry',\n '86-grape',\n '87-cherry',\n '88-pear',\n '89-cherry',\n '90-apple',\n '91-kiwi',\n '92-banana',\n '93-kiwi',\n '94-banana',\n '95-melon',\n '96-banana',\n '97-melon',\n '98-pineapple',\n '99-apple',\n '100-pineapple',\n '']"
     },
     "execution_count": 19,
     "metadata": {},
     "output_type": "execute_result"
    }
   ],
   "source": [
    "text"
   ],
   "metadata": {
    "collapsed": false,
    "pycharm": {
     "name": "#%%\n"
    }
   }
  },
  {
   "cell_type": "code",
   "execution_count": 23,
   "outputs": [
    {
     "ename": "IndexError",
     "evalue": "list index out of range",
     "output_type": "error",
     "traceback": [
      "\u001B[0;31m---------------------------------------------------------------------------\u001B[0m",
      "\u001B[0;31mIndexError\u001B[0m                                Traceback (most recent call last)",
      "Cell \u001B[0;32mIn[23], line 3\u001B[0m\n\u001B[1;32m      1\u001B[0m fruit \u001B[38;5;241m=\u001B[39m []\n\u001B[1;32m      2\u001B[0m \u001B[38;5;28;01mfor\u001B[39;00m t \u001B[38;5;129;01min\u001B[39;00m text:\n\u001B[0;32m----> 3\u001B[0m     fruit\u001B[38;5;241m.\u001B[39mappend(\u001B[43mt\u001B[49m\u001B[38;5;241;43m.\u001B[39;49m\u001B[43msplit\u001B[49m\u001B[43m(\u001B[49m\u001B[38;5;124;43m\"\u001B[39;49m\u001B[38;5;124;43m-\u001B[39;49m\u001B[38;5;124;43m\"\u001B[39;49m\u001B[43m)\u001B[49m\u001B[43m[\u001B[49m\u001B[38;5;241;43m1\u001B[39;49m\u001B[43m]\u001B[49m)\n",
      "\u001B[0;31mIndexError\u001B[0m: list index out of range"
     ]
    }
   ],
   "source": [
    "fruit = []\n",
    "for t in text:\n",
    "    fruit.append(t.split(\"-\")[1])"
   ],
   "metadata": {
    "collapsed": false,
    "pycharm": {
     "name": "#%%\n"
    }
   }
  },
  {
   "cell_type": "code",
   "execution_count": 26,
   "outputs": [],
   "source": [
    "from collections import Counter"
   ],
   "metadata": {
    "collapsed": false,
    "pycharm": {
     "name": "#%%\n"
    }
   }
  },
  {
   "cell_type": "code",
   "execution_count": 27,
   "outputs": [
    {
     "data": {
      "text/plain": "Counter({'kiwi': 10,\n         'pear': 10,\n         'banana': 11,\n         'melon': 11,\n         'pineapple': 12,\n         'apple': 11,\n         'cucumber': 8,\n         'orange': 8,\n         'grape': 9,\n         'cherry': 10})"
     },
     "execution_count": 27,
     "metadata": {},
     "output_type": "execute_result"
    }
   ],
   "source": [
    "Counter(fruit)"
   ],
   "metadata": {
    "collapsed": false,
    "pycharm": {
     "name": "#%%\n"
    }
   }
  },
  {
   "cell_type": "code",
   "execution_count": 27,
   "outputs": [],
   "source": [],
   "metadata": {
    "collapsed": false,
    "pycharm": {
     "name": "#%%\n"
    }
   }
  },
  {
   "cell_type": "code",
   "execution_count": 32,
   "outputs": [
    {
     "data": {
      "text/plain": "b'2'"
     },
     "execution_count": 32,
     "metadata": {},
     "output_type": "execute_result"
    }
   ],
   "source": [
    "\"2\".encode()"
   ],
   "metadata": {
    "collapsed": false,
    "pycharm": {
     "name": "#%%\n"
    }
   }
  },
  {
   "cell_type": "code",
   "execution_count": 2,
   "outputs": [
    {
     "data": {
      "text/plain": "False"
     },
     "execution_count": 2,
     "metadata": {},
     "output_type": "execute_result"
    }
   ],
   "source": [
    "\n",
    "[1,2,3] in [4,5,6,1,2,3]\n"
   ],
   "metadata": {
    "collapsed": false,
    "pycharm": {
     "name": "#%%\n"
    }
   }
  },
  {
   "cell_type": "code",
   "execution_count": 16,
   "outputs": [
    {
     "ename": "IndexError",
     "evalue": "list index out of range",
     "output_type": "error",
     "traceback": [
      "\u001B[0;31m---------------------------------------------------------------------------\u001B[0m",
      "\u001B[0;31mIndexError\u001B[0m                                Traceback (most recent call last)",
      "Cell \u001B[0;32mIn[16], line 1\u001B[0m\n\u001B[0;32m----> 1\u001B[0m result \u001B[38;5;241m=\u001B[39m \u001B[43m[\u001B[49m\u001B[38;5;241;43m1\u001B[39;49m\u001B[43m]\u001B[49m\u001B[43m[\u001B[49m\u001B[38;5;241;43m1\u001B[39;49m\u001B[43m]\u001B[49m\n\u001B[1;32m      2\u001B[0m result\u001B[38;5;241m.\u001B[39msort(key\u001B[38;5;241m=\u001B[39m\u001B[38;5;28;01mlambda\u001B[39;00m x: (\u001B[38;5;241m-\u001B[39mx[\u001B[38;5;241m0\u001B[39m], x[\u001B[38;5;241m1\u001B[39m]))\n\u001B[1;32m      3\u001B[0m \u001B[38;5;28mprint\u001B[39m(result)\n",
      "\u001B[0;31mIndexError\u001B[0m: list index out of range"
     ]
    }
   ],
   "source": [
    "result = [1][1]\n",
    "result.sort(key=lambda x: (-x[0], x[1]))\n",
    "print(result)"
   ],
   "metadata": {
    "collapsed": false,
    "pycharm": {
     "name": "#%%\n"
    }
   }
  },
  {
   "cell_type": "code",
   "execution_count": 30,
   "outputs": [
    {
     "data": {
      "text/plain": "datetime.datetime(2022, 1, 2, 14, 11)"
     },
     "execution_count": 30,
     "metadata": {},
     "output_type": "execute_result"
    }
   ],
   "source": [
    "\n",
    "import datetime\n",
    "\n",
    "datetime.datetime.strptime(\"2022-01-02 14:11:00\", \"%Y-%m-%d %H:%M:%S\")\n",
    "\n",
    "\n"
   ],
   "metadata": {
    "collapsed": false,
    "pycharm": {
     "name": "#%%\n"
    }
   }
  }
 ],
 "metadata": {
  "kernelspec": {
   "display_name": "Python 3",
   "language": "python",
   "name": "python3"
  },
  "language_info": {
   "codemirror_mode": {
    "name": "ipython",
    "version": 2
   },
   "file_extension": ".py",
   "mimetype": "text/x-python",
   "name": "python",
   "nbconvert_exporter": "python",
   "pygments_lexer": "ipython2",
   "version": "2.7.6"
  }
 },
 "nbformat": 4,
 "nbformat_minor": 0
}